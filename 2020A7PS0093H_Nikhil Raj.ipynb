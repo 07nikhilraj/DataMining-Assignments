{
 "cells": [
  {
   "cell_type": "markdown",
   "id": "f5859aeb",
   "metadata": {},
   "source": [
    "Design Naive Bayes Classifier from scratch for the given Dataset and find out the accuracy of your model."
   ]
  },
  {
   "cell_type": "markdown",
   "id": "3811d458",
   "metadata": {},
   "source": [
    "Importing All the desired libraries"
   ]
  },
  {
   "cell_type": "code",
   "execution_count": 1,
   "id": "ee023592",
   "metadata": {},
   "outputs": [],
   "source": [
    "import numpy as np \n",
    "import pandas as pd\n",
    "import matplotlib.pyplot as plt\n",
    "import seaborn as sns\n",
    "import math"
   ]
  },
  {
   "cell_type": "markdown",
   "id": "30a64c4e",
   "metadata": {},
   "source": [
    "Importing Dataset"
   ]
  },
  {
   "cell_type": "code",
   "execution_count": 2,
   "id": "8c59a88a",
   "metadata": {},
   "outputs": [
    {
     "name": "stdout",
     "output_type": "stream",
     "text": [
      "\n",
      "Cars Dataset:\n"
     ]
    },
    {
     "data": {
      "text/html": [
       "<div>\n",
       "<style scoped>\n",
       "    .dataframe tbody tr th:only-of-type {\n",
       "        vertical-align: middle;\n",
       "    }\n",
       "\n",
       "    .dataframe tbody tr th {\n",
       "        vertical-align: top;\n",
       "    }\n",
       "\n",
       "    .dataframe thead th {\n",
       "        text-align: right;\n",
       "    }\n",
       "</style>\n",
       "<table border=\"1\" class=\"dataframe\">\n",
       "  <thead>\n",
       "    <tr style=\"text-align: right;\">\n",
       "      <th></th>\n",
       "      <th>buying</th>\n",
       "      <th>maint</th>\n",
       "      <th>doors</th>\n",
       "      <th>persons</th>\n",
       "      <th>lug_boot</th>\n",
       "      <th>safety</th>\n",
       "      <th>clazz</th>\n",
       "    </tr>\n",
       "  </thead>\n",
       "  <tbody>\n",
       "    <tr>\n",
       "      <th>0</th>\n",
       "      <td>vhigh</td>\n",
       "      <td>vhigh</td>\n",
       "      <td>2</td>\n",
       "      <td>2</td>\n",
       "      <td>small</td>\n",
       "      <td>low</td>\n",
       "      <td>unacc</td>\n",
       "    </tr>\n",
       "    <tr>\n",
       "      <th>1</th>\n",
       "      <td>vhigh</td>\n",
       "      <td>vhigh</td>\n",
       "      <td>2</td>\n",
       "      <td>2</td>\n",
       "      <td>small</td>\n",
       "      <td>med</td>\n",
       "      <td>unacc</td>\n",
       "    </tr>\n",
       "    <tr>\n",
       "      <th>2</th>\n",
       "      <td>vhigh</td>\n",
       "      <td>vhigh</td>\n",
       "      <td>2</td>\n",
       "      <td>2</td>\n",
       "      <td>small</td>\n",
       "      <td>high</td>\n",
       "      <td>unacc</td>\n",
       "    </tr>\n",
       "    <tr>\n",
       "      <th>3</th>\n",
       "      <td>vhigh</td>\n",
       "      <td>vhigh</td>\n",
       "      <td>2</td>\n",
       "      <td>2</td>\n",
       "      <td>med</td>\n",
       "      <td>low</td>\n",
       "      <td>unacc</td>\n",
       "    </tr>\n",
       "    <tr>\n",
       "      <th>4</th>\n",
       "      <td>vhigh</td>\n",
       "      <td>vhigh</td>\n",
       "      <td>2</td>\n",
       "      <td>2</td>\n",
       "      <td>med</td>\n",
       "      <td>med</td>\n",
       "      <td>unacc</td>\n",
       "    </tr>\n",
       "    <tr>\n",
       "      <th>...</th>\n",
       "      <td>...</td>\n",
       "      <td>...</td>\n",
       "      <td>...</td>\n",
       "      <td>...</td>\n",
       "      <td>...</td>\n",
       "      <td>...</td>\n",
       "      <td>...</td>\n",
       "    </tr>\n",
       "    <tr>\n",
       "      <th>1723</th>\n",
       "      <td>low</td>\n",
       "      <td>low</td>\n",
       "      <td>5more</td>\n",
       "      <td>more</td>\n",
       "      <td>med</td>\n",
       "      <td>med</td>\n",
       "      <td>good</td>\n",
       "    </tr>\n",
       "    <tr>\n",
       "      <th>1724</th>\n",
       "      <td>low</td>\n",
       "      <td>low</td>\n",
       "      <td>5more</td>\n",
       "      <td>more</td>\n",
       "      <td>med</td>\n",
       "      <td>high</td>\n",
       "      <td>vgood</td>\n",
       "    </tr>\n",
       "    <tr>\n",
       "      <th>1725</th>\n",
       "      <td>low</td>\n",
       "      <td>low</td>\n",
       "      <td>5more</td>\n",
       "      <td>more</td>\n",
       "      <td>big</td>\n",
       "      <td>low</td>\n",
       "      <td>unacc</td>\n",
       "    </tr>\n",
       "    <tr>\n",
       "      <th>1726</th>\n",
       "      <td>low</td>\n",
       "      <td>low</td>\n",
       "      <td>5more</td>\n",
       "      <td>more</td>\n",
       "      <td>big</td>\n",
       "      <td>med</td>\n",
       "      <td>good</td>\n",
       "    </tr>\n",
       "    <tr>\n",
       "      <th>1727</th>\n",
       "      <td>low</td>\n",
       "      <td>low</td>\n",
       "      <td>5more</td>\n",
       "      <td>more</td>\n",
       "      <td>big</td>\n",
       "      <td>high</td>\n",
       "      <td>vgood</td>\n",
       "    </tr>\n",
       "  </tbody>\n",
       "</table>\n",
       "<p>1728 rows × 7 columns</p>\n",
       "</div>"
      ],
      "text/plain": [
       "     buying  maint  doors persons lug_boot safety  clazz\n",
       "0     vhigh  vhigh      2       2    small    low  unacc\n",
       "1     vhigh  vhigh      2       2    small    med  unacc\n",
       "2     vhigh  vhigh      2       2    small   high  unacc\n",
       "3     vhigh  vhigh      2       2      med    low  unacc\n",
       "4     vhigh  vhigh      2       2      med    med  unacc\n",
       "...     ...    ...    ...     ...      ...    ...    ...\n",
       "1723    low    low  5more    more      med    med   good\n",
       "1724    low    low  5more    more      med   high  vgood\n",
       "1725    low    low  5more    more      big    low  unacc\n",
       "1726    low    low  5more    more      big    med   good\n",
       "1727    low    low  5more    more      big   high  vgood\n",
       "\n",
       "[1728 rows x 7 columns]"
      ]
     },
     "execution_count": 2,
     "metadata": {},
     "output_type": "execute_result"
    }
   ],
   "source": [
    "print(\"\\nCars Dataset:\")\n",
    "df = pd.read_csv(\"cars.csv\")\n",
    "df\n"
   ]
  },
  {
   "cell_type": "code",
   "execution_count": 3,
   "id": "7df887a7",
   "metadata": {},
   "outputs": [
    {
     "name": "stdout",
     "output_type": "stream",
     "text": [
      "<class 'pandas.core.frame.DataFrame'>\n",
      "RangeIndex: 1728 entries, 0 to 1727\n",
      "Data columns (total 7 columns):\n",
      " #   Column    Non-Null Count  Dtype \n",
      "---  ------    --------------  ----- \n",
      " 0   buying    1728 non-null   object\n",
      " 1   maint     1728 non-null   object\n",
      " 2   doors     1728 non-null   object\n",
      " 3   persons   1728 non-null   object\n",
      " 4   lug_boot  1728 non-null   object\n",
      " 5   safety    1728 non-null   object\n",
      " 6   clazz     1728 non-null   object\n",
      "dtypes: object(7)\n",
      "memory usage: 94.6+ KB\n"
     ]
    }
   ],
   "source": [
    "df.info()"
   ]
  },
  {
   "cell_type": "markdown",
   "id": "61018d0c",
   "metadata": {},
   "source": [
    "We can see that there are no missing values in the dataset"
   ]
  },
  {
   "cell_type": "markdown",
   "id": "690cb011",
   "metadata": {},
   "source": [
    "## Finding Categorical Variable"
   ]
  },
  {
   "cell_type": "code",
   "execution_count": 4,
   "id": "9535b69a",
   "metadata": {},
   "outputs": [
    {
     "name": "stdout",
     "output_type": "stream",
     "text": [
      "There are 7 categorical variables\n",
      "\n",
      "The categorical variables are :\n",
      "\n",
      " ['buying', 'maint', 'doors', 'persons', 'lug_boot', 'safety', 'clazz']\n"
     ]
    }
   ],
   "source": [
    "categorical = [var for var in df.columns if df[var].dtype=='O']\n",
    "print('There are {} categorical variables\\n'.format(len(categorical)))\n",
    "print('The categorical variables are :\\n\\n', categorical)"
   ]
  },
  {
   "cell_type": "markdown",
   "id": "2ac63b82",
   "metadata": {},
   "source": [
    "## Plotting 'target' variable to see the distribution of data:"
   ]
  },
  {
   "cell_type": "code",
   "execution_count": 14,
   "id": "52bb4ddc",
   "metadata": {},
   "outputs": [
    {
     "data": {
      "text/plain": [
       "<AxesSubplot:>"
      ]
     },
     "execution_count": 14,
     "metadata": {},
     "output_type": "execute_result"
    },
    {
     "data": {
      "image/png": "[encoded data removed]",
      "text/plain": [
       "<Figure size 432x288 with 1 Axes>"
      ]
     },
     "metadata": {
      "needs_background": "light"
     },
     "output_type": "display_data"
    }
   ],
   "source": [
    "df[\"clazz\"].hist()"
   ]
  },
  {
   "cell_type": "markdown",
   "id": "78814ae9",
   "metadata": {},
   "source": [
    "### Partioning data into features and target"
   ]
  },
  {
   "cell_type": "code",
   "execution_count": 6,
   "id": "55c25bce",
   "metadata": {},
   "outputs": [],
   "source": [
    "def pre_processing(df):\n",
    "    X = df.drop([df.columns[-1]], axis = 1)\n",
    "    y = df[df.columns[-1]]\n",
    "    return X, y"
   ]
  },
  {
   "cell_type": "code",
   "execution_count": 7,
   "id": "7fffb0c8",
   "metadata": {},
   "outputs": [
    {
     "data": {
      "text/plain": [
       "(     buying  maint  doors persons lug_boot safety\n",
       " 0     vhigh  vhigh      2       2    small    low\n",
       " 1     vhigh  vhigh      2       2    small    med\n",
       " 2     vhigh  vhigh      2       2    small   high\n",
       " 3     vhigh  vhigh      2       2      med    low\n",
       " 4     vhigh  vhigh      2       2      med    med\n",
       " ...     ...    ...    ...     ...      ...    ...\n",
       " 1723    low    low  5more    more      med    med\n",
       " 1724    low    low  5more    more      med   high\n",
       " 1725    low    low  5more    more      big    low\n",
       " 1726    low    low  5more    more      big    med\n",
       " 1727    low    low  5more    more      big   high\n",
       " \n",
       " [1728 rows x 6 columns],\n",
       " 0       unacc\n",
       " 1       unacc\n",
       " 2       unacc\n",
       " 3       unacc\n",
       " 4       unacc\n",
       "         ...  \n",
       " 1723     good\n",
       " 1724    vgood\n",
       " 1725    unacc\n",
       " 1726     good\n",
       " 1727    vgood\n",
       " Name: clazz, Length: 1728, dtype: object)"
      ]
     },
     "execution_count": 7,
     "metadata": {},
     "output_type": "execute_result"
    }
   ],
   "source": [
    "X,y  = pre_processing(df)\n",
    "X,y\n",
    "#X - feature vector\n",
    "#y - Target"
   ]
  },
  {
   "cell_type": "markdown",
   "id": "2455133d",
   "metadata": {},
   "source": [
    "# NaiveBayes Class:"
   ]
  },
  {
   "cell_type": "code",
   "execution_count": 8,
   "id": "d5e5eb5b",
   "metadata": {},
   "outputs": [],
   "source": [
    "class  NaiveBayes:\n",
    "    def __init__(self):\n",
    "        self.features = list\n",
    "        self.likelihoods = {}\n",
    "        self.class_priors = {}\n",
    "        self.pred_priors = {}\n",
    "\n",
    "        self.X_train = np.array\n",
    "        self.y_train = np.array\n",
    "        self.train_size = int\n",
    "        self.num_feats = int\n",
    "\n",
    "    def fit(self, X, y):\n",
    "        self.features = list(X.columns)\n",
    "        self.X_train = X\n",
    "        self.y_train = y\n",
    "        self.train_size = X.shape[0]\n",
    "        self.num_feats = X.shape[1]\n",
    "\n",
    "        for feature in self.features:\n",
    "            self.likelihoods[feature] = {}\n",
    "            self.pred_priors[feature] = {}\n",
    "\n",
    "            for feat_val in np.unique(self.X_train[feature]):\n",
    "                self.pred_priors[feature].update({feat_val: 0})\n",
    "\n",
    "                for outcome in np.unique(self.y_train):\n",
    "                    self.likelihoods[feature].update({feat_val+'_'+outcome:0})\n",
    "                    self.class_priors.update({outcome: 0})\n",
    "\n",
    "        self._calc_class_prior()\n",
    "        self._calc_likelihoods()\n",
    "        self._calc_predictor_prior()\n",
    "\n",
    "        \n",
    "    # -------------------------------------P(c) - Prior Class Probability--------------------------------------------------\n",
    "    def _calc_class_prior(self):\n",
    "        for outcome in np.unique(self.y_train):\n",
    "            outcome_count = sum(self.y_train == outcome)\n",
    "            self.class_priors[outcome] = outcome_count / self.train_size\n",
    "\n",
    "    # -------------------------------------------P(x|c) - Likelihood------------------------------------------------------\n",
    "    def _calc_likelihoods(self):\n",
    "        for feature in self.features:\n",
    "            for outcome in np.unique(self.y_train):\n",
    "                outcome_count = sum(self.y_train == outcome)\n",
    "                feat_likelihood = self.X_train[feature][self.y_train[self.y_train == outcome].index.values.tolist()].value_counts().to_dict()\n",
    "                for feat_val, count in feat_likelihood.items():\n",
    "                    self.likelihoods[feature][feat_val + '_' + outcome] = count/outcome_count\n",
    "\n",
    "    \n",
    "    # ---------------------------------------------P(x) - Evidence--------------------------------------------------------\n",
    "    def _calc_predictor_prior(self):\n",
    "        for feature in self.features:\n",
    "            feat_vals = self.X_train[feature].value_counts().to_dict()\n",
    "            for feat_val, count in feat_vals.items():\n",
    "                self.pred_priors[feature][feat_val] = count/self.train_size\n",
    "\n",
    "                \n",
    "    # -------------------------------------- Calculates Posterior probability P(c|x) -------------------------------------            \n",
    "    def predict(self, X):\n",
    "        results = []\n",
    "        X = np.array(X)\n",
    "\n",
    "        for query in X:\n",
    "            probs_outcome = {}\n",
    "            for outcome in np.unique(self.y_train):\n",
    "                prior = self.class_priors[outcome]\n",
    "                likelihood = 1\n",
    "                evidence = 1\n",
    "\n",
    "                for feat, feat_val in zip(self.features, query):\n",
    "                    likelihood *= self.likelihoods[feat][feat_val + '_' + outcome]\n",
    "                    evidence *= self.pred_priors[feat][feat_val]\n",
    "                    \n",
    "                posterior = (likelihood * prior) / (evidence)\n",
    "                probs_outcome[outcome] = posterior\n",
    "                \n",
    "            result = max(probs_outcome, key = lambda x: probs_outcome[x])\n",
    "            results.append(result)\n",
    "\n",
    "        return np.array(results)"
   ]
  },
  {
   "cell_type": "markdown",
   "id": "9629af34",
   "metadata": {},
   "source": [
    "### To find Accuracy:"
   ]
  },
  {
   "cell_type": "code",
   "execution_count": 9,
   "id": "b4f373aa",
   "metadata": {},
   "outputs": [],
   "source": [
    "def accuracy_score(y_true, y_pred):\n",
    "    return round(float(sum(y_pred == y_true))/float(len(y_true)) * 100 ,2)"
   ]
  },
  {
   "cell_type": "code",
   "execution_count": 10,
   "id": "57e23bfe",
   "metadata": {},
   "outputs": [
    {
     "name": "stdout",
     "output_type": "stream",
     "text": [
      "Train Accuracy: 87.38\n"
     ]
    }
   ],
   "source": [
    "nbCar = NaiveBayes()\n",
    "nbCar.fit(X, y)\n",
    "print(\"Train Accuracy: {}\".format(accuracy_score(y, nbCar.predict(X))))"
   ]
  },
  {
   "cell_type": "markdown",
   "id": "2e999d36",
   "metadata": {},
   "source": [
    "### Checking Some Queries"
   ]
  },
  {
   "cell_type": "code",
   "execution_count": 11,
   "id": "ada52ebb",
   "metadata": {},
   "outputs": [
    {
     "name": "stdout",
     "output_type": "stream",
     "text": [
      "Query 1:- [['vhigh' 'vhigh' '2' '2' 'small' 'low']] ---> ['unacc']\n"
     ]
    }
   ],
   "source": [
    "#Query 1:\n",
    "query = np.array([['vhigh','vhigh', '2','2','small','low']])\n",
    "print(\"Query 1:- {} ---> {}\".format(query, nbCar.predict(query)))"
   ]
  },
  {
   "cell_type": "code",
   "execution_count": 12,
   "id": "09d19632",
   "metadata": {},
   "outputs": [
    {
     "name": "stdout",
     "output_type": "stream",
     "text": [
      "Query 2:- [['low' 'low' '5more' 'more' 'med' 'med' 'good']] ---> ['good']\n"
     ]
    }
   ],
   "source": [
    "#Query 2:\n",
    "query = np.array([['low','low','5more','more','med','med','good']])\n",
    "print(\"Query 2:- {} ---> {}\".format(query, nbCar.predict(query)))"
   ]
  },
  {
   "cell_type": "code",
   "execution_count": 13,
   "id": "264ab11a",
   "metadata": {},
   "outputs": [
    {
     "name": "stdout",
     "output_type": "stream",
     "text": [
      "Query 3:- [['low' 'low' '5more' 'more' 'med' 'high' 'good']] ---> ['vgood']\n"
     ]
    }
   ],
   "source": [
    "#Query 3:\n",
    "query = np.array([['low','low','5more','more','med','high','good']])\n",
    "print(\"Query 3:- {} ---> {}\".format(query, nbCar.predict(query)))"
   ]
  }
 ],
 "metadata": {
  "kernelspec": {
   "display_name": "Python 3 (ipykernel)",
   "language": "python",
   "name": "python3"
  },
  "language_info": {
   "codemirror_mode": {
    "name": "ipython",
    "version": 3
   },
   "file_extension": ".py",
   "mimetype": "text/x-python",
   "name": "python",
   "nbconvert_exporter": "python",
   "pygments_lexer": "ipython3",
   "version": "3.10.1"
  }
 },
 "nbformat": 4,
 "nbformat_minor": 5
}
